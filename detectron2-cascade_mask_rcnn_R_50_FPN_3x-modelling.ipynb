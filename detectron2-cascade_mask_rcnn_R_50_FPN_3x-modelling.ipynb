{
 "cells": [
  {
   "cell_type": "markdown",
   "id": "6361de8a",
   "metadata": {},
   "source": [
    "This notebook explores the possibility of counting people on the photos from ZB. Here we used a model for detecting people Detectron2 by facebook."
   ]
  },
  {
   "cell_type": "markdown",
   "id": "fa57f207",
   "metadata": {},
   "source": [
    "Importing dependencies."
   ]
  },
  {
   "cell_type": "code",
   "execution_count": 1,
   "id": "8683e906",
   "metadata": {},
   "outputs": [],
   "source": [
    "import os\n",
    "import pandas as pd\n",
    "import cv2\n",
    "import torch\n",
    "import matplotlib.pyplot as plt\n",
    "from detectron2.engine import DefaultPredictor\n",
    "from detectron2.config import get_cfg\n",
    "from detectron2 import model_zoo\n",
    "from detectron2.utils.visualizer import Visualizer\n",
    "from detectron2.data import MetadataCatalog"
   ]
  },
  {
   "cell_type": "markdown",
   "id": "0adc753e",
   "metadata": {},
   "source": [
    "Paths for used folders."
   ]
  },
  {
   "cell_type": "code",
   "execution_count": null,
   "id": "ea112738",
   "metadata": {},
   "outputs": [],
   "source": [
    "# === CONFIGURE ===\n",
    "input_dir = \"Data\"       # Folder with WW2 images\n",
    "output_dir = \"detectron2-cascade_mask_rcnn_R_50_FPN_3x\"   # Optional output folder\n",
    "os.makedirs(output_dir, exist_ok=True)"
   ]
  },
  {
   "cell_type": "markdown",
   "id": "db0e3294",
   "metadata": {},
   "source": [
    "Detectron2 configuration."
   ]
  },
  {
   "cell_type": "code",
   "execution_count": 3,
   "id": "2081b035",
   "metadata": {},
   "outputs": [],
   "source": [
    "cfg = get_cfg()\n",
    "cfg.merge_from_file(model_zoo.get_config_file(\n",
    "    \"Misc/cascade_mask_rcnn_R_50_FPN_3x.yaml\"\n",
    "))\n",
    "cfg.MODEL.ROI_HEADS.SCORE_THRESH_TEST = 0.5\n",
    "cfg.MODEL.ROI_HEADS.NUM_CLASSES = 80\n",
    "cfg.MODEL.WEIGHTS = model_zoo.get_checkpoint_url(\n",
    "    \"Misc/cascade_mask_rcnn_R_50_FPN_3x.yaml\"\n",
    ")\n",
    "cfg.MODEL.DEVICE = \"cuda\" if torch.cuda.is_available() else \"cpu\""
   ]
  },
  {
   "cell_type": "code",
   "execution_count": 4,
   "id": "3932f210",
   "metadata": {},
   "outputs": [],
   "source": [
    "# Load the CSV\n",
    "df = pd.read_csv('people_counts.csv', sep=';')\n",
    "\n",
    "# Filter for counts <= 4\n",
    "# filtered_df = df[df['people_count'] <= 20]\n",
    "\n",
    "# Create list of .jpg filenames\n",
    "jpg_filenames = [f\"{str(id_)}.jpg\" for id_ in df['id']]"
   ]
  },
  {
   "cell_type": "code",
   "execution_count": 5,
   "id": "5a821134",
   "metadata": {},
   "outputs": [
    {
     "name": "stderr",
     "output_type": "stream",
     "text": [
      "model_final_480dd8.pkl: 288MB [00:47, 6.10MB/s]                              \n",
      "/opt/conda/lib/python3.10/site-packages/torch/functional.py:504: UserWarning: torch.meshgrid: in an upcoming release, it will be required to pass the indexing argument. (Triggered internally at /opt/conda/conda-bld/pytorch_1695392020201/work/aten/src/ATen/native/TensorShape.cpp:3526.)\n",
      "  return _VF.meshgrid(tensors, **kwargs)  # type: ignore[attr-defined]\n"
     ]
    }
   ],
   "source": [
    "predictor = DefaultPredictor(cfg)\n",
    "model_output = []\n",
    "\n",
    "# === PROCESS IMAGES ===\n",
    "for filename in jpg_filenames:\n",
    "    if not filename.lower().endswith(('.jpg', '.jpeg', '.png')):\n",
    "        continue\n",
    "\n",
    "    img_path = os.path.join(input_dir, filename)\n",
    "    image = cv2.imread(img_path)\n",
    "    if image is None:\n",
    "        print(f\"Could not read {filename}\")\n",
    "        continue\n",
    "\n",
    "    image_rgb = cv2.cvtColor(image, cv2.COLOR_BGR2RGB)\n",
    "    outputs = predictor(image)\n",
    "    instances = outputs[\"instances\"]\n",
    "    person_instances = instances[instances.pred_classes == 0]\n",
    "    count = len(person_instances)\n",
    "\n",
    "    model_output.append({\n",
    "        \"id\": filename.removesuffix(\".jpg\"),\n",
    "        \"people_count\": count\n",
    "    })\n",
    "\n",
    "    # --- Visualize and Save ---\n",
    "    v = Visualizer(image_rgb, MetadataCatalog.get(cfg.DATASETS.TRAIN[0]), scale=1.0)\n",
    "    out = v.draw_instance_predictions(person_instances.to(\"cpu\"))\n",
    "    result_img = out.get_image()\n",
    "    save_path = os.path.join(output_dir, filename)\n",
    "    cv2.imwrite(save_path, cv2.cvtColor(result_img, cv2.COLOR_RGB2BGR))\n",
    "\n",
    "# === SAVE RESULTS ===\n",
    "output_df = pd.DataFrame(model_output)\n",
    "output_csv_path = os.path.join(output_dir, \"detectron2_output.csv\")\n",
    "output_df.to_csv(output_csv_path, index=False)\n",
    "\n"
   ]
  }
 ],
 "metadata": {
  "kernelspec": {
   "display_name": "base",
   "language": "python",
   "name": "python3"
  },
  "language_info": {
   "codemirror_mode": {
    "name": "ipython",
    "version": 3
   },
   "file_extension": ".py",
   "mimetype": "text/x-python",
   "name": "python",
   "nbconvert_exporter": "python",
   "pygments_lexer": "ipython3",
   "version": "3.10.13"
  }
 },
 "nbformat": 4,
 "nbformat_minor": 5
}
