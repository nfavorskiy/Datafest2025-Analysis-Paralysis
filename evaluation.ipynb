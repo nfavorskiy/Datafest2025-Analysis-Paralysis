{
 "cells": [
  {
   "cell_type": "markdown",
   "id": "4fe36443",
   "metadata": {},
   "source": [
    "This notebook evaluates detectron2 results using MAE (Mean Absolute Error)."
   ]
  },
  {
   "cell_type": "code",
   "execution_count": 1,
   "id": "0bc1c3c4",
   "metadata": {},
   "outputs": [],
   "source": [
    "import pandas as pd\n",
    "from sklearn.metrics import mean_absolute_error, root_mean_squared_error, r2_score\n",
    "\n",
    "# Load the CSV files\n",
    "# Replace 'model_predictions.csv' and 'true_values.csv' with your actual file names\n",
    "predictions_df = pd.read_csv('output/detectron2_output.csv').fillna(0)\n",
    "true_values_df = pd.read_csv('Counted_people_datafest_converted.csv', sep=';')\n"
   ]
  },
  {
   "cell_type": "code",
   "execution_count": 2,
   "id": "3ae5cd51",
   "metadata": {},
   "outputs": [
    {
     "name": "stdout",
     "output_type": "stream",
     "text": [
      "Mean Absolute Error (MAE): 0.5769230769230769\n",
      "Root Mean Squared Error (RMSE): 1.126601424298216\n",
      "R-squared (R2): 0.4403131115459883\n"
     ]
    }
   ],
   "source": [
    "# Assuming both files have a common ID column to join on, like 'id'\n",
    "# And that the predictions are in a column named 'prediction', and true values in 'actual'\n",
    "# Modify column names if yours are different\n",
    "merged_df = pd.merge(predictions_df, true_values_df, on='id', how='left')\n",
    "\n",
    "# Compute MAE\n",
    "mae = mean_absolute_error(merged_df['people_count_x'], merged_df['people_count_y'])\n",
    "# Compute RMSE\n",
    "rmse = root_mean_squared_error(merged_df['people_count_x'], merged_df['people_count_y'])\n",
    "# Compute R-squared\n",
    "r2 = r2_score(merged_df['people_count_y'], merged_df['people_count_x'])\n",
    "print(f\"Mean Absolute Error (MAE): {mae}\")\n",
    "print(f\"Root Mean Squared Error (RMSE): {rmse}\")\n",
    "print(f\"R-squared (R2): {r2}\")"
   ]
  }
 ],
 "metadata": {
  "kernelspec": {
   "display_name": "base",
   "language": "python",
   "name": "python3"
  },
  "language_info": {
   "codemirror_mode": {
    "name": "ipython",
    "version": 3
   },
   "file_extension": ".py",
   "mimetype": "text/x-python",
   "name": "python",
   "nbconvert_exporter": "python",
   "pygments_lexer": "ipython3",
   "version": "3.10.13"
  }
 },
 "nbformat": 4,
 "nbformat_minor": 5
}
