{
 "cells": [
  {
   "cell_type": "markdown",
   "id": "6361de8a",
   "metadata": {},
   "source": [
    "This notebook explores the possibility of counting people on the photos from ZB."
   ]
  },
  {
   "cell_type": "markdown",
   "id": "fa57f207",
   "metadata": {},
   "source": [
    "Importing dependencies."
   ]
  },
  {
   "cell_type": "code",
   "execution_count": 1,
   "id": "8683e906",
   "metadata": {},
   "outputs": [],
   "source": [
    "import os\n",
    "import cv2\n",
    "import torch\n",
    "import matplotlib.pyplot as plt\n",
    "from detectron2.engine import DefaultPredictor\n",
    "from detectron2.config import get_cfg\n",
    "from detectron2 import model_zoo\n",
    "from detectron2.utils.visualizer import Visualizer\n",
    "from detectron2.data import MetadataCatalog"
   ]
  },
  {
   "cell_type": "markdown",
   "id": "0adc753e",
   "metadata": {},
   "source": [
    "Paths for input."
   ]
  },
  {
   "cell_type": "code",
   "execution_count": 2,
   "id": "ea112738",
   "metadata": {},
   "outputs": [],
   "source": [
    "# === CONFIGURE ===\n",
    "input_dir = \"Data\"       # Folder with WW2 images\n",
    "output_dir = \"output\"   # Optional output folder\n",
    "os.makedirs(output_dir, exist_ok=True)"
   ]
  },
  {
   "cell_type": "markdown",
   "id": "db0e3294",
   "metadata": {},
   "source": [
    "Detecrton2 configuration."
   ]
  },
  {
   "cell_type": "code",
   "execution_count": 3,
   "id": "2081b035",
   "metadata": {},
   "outputs": [],
   "source": [
    "cfg = get_cfg()\n",
    "cfg.merge_from_file(model_zoo.get_config_file(\n",
    "    \"COCO-InstanceSegmentation/mask_rcnn_R_50_FPN_3x.yaml\"\n",
    "))\n",
    "cfg.MODEL.ROI_HEADS.SCORE_THRESH_TEST = 0.5\n",
    "cfg.MODEL.ROI_HEADS.NUM_CLASSES = 80\n",
    "cfg.MODEL.WEIGHTS = model_zoo.get_checkpoint_url(\n",
    "    \"COCO-InstanceSegmentation/mask_rcnn_R_50_FPN_3x.yaml\"\n",
    ")\n",
    "cfg.MODEL.DEVICE = \"cuda\" if torch.cuda.is_available() else \"cpu\""
   ]
  },
  {
   "cell_type": "code",
   "execution_count": 4,
   "id": "5a821134",
   "metadata": {},
   "outputs": [
    {
     "name": "stderr",
     "output_type": "stream",
     "text": [
      "model_final_f10217.pkl: 178MB [00:10, 16.3MB/s]                            \n",
      "/opt/conda/lib/python3.10/site-packages/torch/functional.py:504: UserWarning: torch.meshgrid: in an upcoming release, it will be required to pass the indexing argument. (Triggered internally at /opt/conda/conda-bld/pytorch_1695392020201/work/aten/src/ATen/native/TensorShape.cpp:3526.)\n",
      "  return _VF.meshgrid(tensors, **kwargs)  # type: ignore[attr-defined]\n"
     ]
    },
    {
     "name": "stdout",
     "output_type": "stream",
     "text": [
      "10691.jpg: 4 people detected\n",
      "114038.jpg: 2 people detected\n",
      "114041.jpg: 19 people detected\n",
      "20126.jpg: 4 people detected\n",
      "21345.jpg: 11 people detected\n",
      "24537.jpg: 0 people detected\n",
      "26928.jpg: 25 people detected\n",
      "26930.jpg: 23 people detected\n",
      "27123.jpg: 19 people detected\n",
      "32476.jpg: 18 people detected\n",
      "32506.jpg: 17 people detected\n",
      "32507.jpg: 27 people detected\n",
      "32535.jpg: 0 people detected\n",
      "35483.jpg: 13 people detected\n",
      "35530.jpg: 17 people detected\n",
      "35531.jpg: 11 people detected\n",
      "35533.jpg: 38 people detected\n",
      "35534.jpg: 2 people detected\n",
      "35537.jpg: 9 people detected\n",
      "35541.jpg: 5 people detected\n",
      "35788.jpg: 0 people detected\n",
      "35789.jpg: 1 people detected\n",
      "35791.jpg: 0 people detected\n",
      "35803.jpg: 0 people detected\n",
      "36209.jpg: 2 people detected\n",
      "39704.jpg: 24 people detected\n",
      "39958.jpg: 30 people detected\n",
      "39960.jpg: 21 people detected\n",
      "42059.jpg: 13 people detected\n",
      "42066.jpg: 28 people detected\n",
      "43345.jpg: 0 people detected\n",
      "43816.jpg: 1 people detected\n",
      "43817.jpg: 0 people detected\n",
      "43826.jpg: 21 people detected\n",
      "43827.jpg: 7 people detected\n",
      "43828.jpg: 1 people detected\n",
      "43829.jpg: 20 people detected\n",
      "51195.jpg: 4 people detected\n",
      "5165.jpg: 0 people detected\n",
      "5171.jpg: 0 people detected\n",
      "54431.jpg: 2 people detected\n",
      "58938.jpg: 16 people detected\n",
      "58939.jpg: 0 people detected\n",
      "58948.jpg: 0 people detected\n",
      "59046.jpg: 2 people detected\n",
      "59047.jpg: 7 people detected\n",
      "59048.jpg: 11 people detected\n",
      "59050.jpg: 5 people detected\n",
      "59051.jpg: 2 people detected\n",
      "66501.jpg: 6 people detected\n",
      "67111.jpg: 5 people detected\n",
      "6861.jpg: 1 people detected\n",
      "71345.jpg: 1 people detected\n",
      "79331.jpg: 14 people detected\n",
      "79335.jpg: 4 people detected\n",
      "79336.jpg: 24 people detected\n"
     ]
    }
   ],
   "source": [
    "predictor = DefaultPredictor(cfg)\n",
    "\n",
    "# === PROCESS IMAGES ===\n",
    "for filename in os.listdir(input_dir):\n",
    "    if not filename.lower().endswith(('.jpg', '.jpeg', '.png')):\n",
    "        continue\n",
    "\n",
    "    img_path = os.path.join(input_dir, filename)\n",
    "    image = cv2.imread(img_path)\n",
    "    if image is None:\n",
    "        print(f\"Could not read {filename}\")\n",
    "        continue\n",
    "\n",
    "    image_rgb = cv2.cvtColor(image, cv2.COLOR_BGR2RGB)\n",
    "    outputs = predictor(image)\n",
    "    instances = outputs[\"instances\"]\n",
    "    person_instances = instances[instances.pred_classes == 0]\n",
    "    count = len(person_instances)\n",
    "\n",
    "    print(f\"{filename}: {count} people detected\")\n",
    "\n",
    "    # --- Visualize and Save ---\n",
    "    v = Visualizer(image_rgb, MetadataCatalog.get(cfg.DATASETS.TRAIN[0]), scale=1.0)\n",
    "    out = v.draw_instance_predictions(person_instances.to(\"cpu\"))\n",
    "    result_img = out.get_image()\n",
    "    save_path = os.path.join(output_dir, filename)\n",
    "    cv2.imwrite(save_path, cv2.cvtColor(result_img, cv2.COLOR_RGB2BGR))\n"
   ]
  }
 ],
 "metadata": {
  "kernelspec": {
   "display_name": "base",
   "language": "python",
   "name": "python3"
  },
  "language_info": {
   "codemirror_mode": {
    "name": "ipython",
    "version": 3
   },
   "file_extension": ".py",
   "mimetype": "text/x-python",
   "name": "python",
   "nbconvert_exporter": "python",
   "pygments_lexer": "ipython3",
   "version": "3.10.13"
  }
 },
 "nbformat": 4,
 "nbformat_minor": 5
}
